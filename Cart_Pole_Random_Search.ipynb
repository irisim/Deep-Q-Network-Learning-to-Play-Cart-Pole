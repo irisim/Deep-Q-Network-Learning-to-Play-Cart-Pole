{
  "nbformat": 4,
  "nbformat_minor": 0,
  "metadata": {
    "colab": {
      "provenance": []
    },
    "kernelspec": {
      "name": "python3",
      "display_name": "Python 3"
    },
    "language_info": {
      "name": "python"
    }
  },
  "cells": [
    {
      "cell_type": "code",
      "execution_count": 1,
      "metadata": {
        "colab": {
          "base_uri": "https://localhost:8080/"
        },
        "id": "vj56NuBt3ueX",
        "outputId": "5de173d1-6068-4b93-a502-161a1fcae144"
      },
      "outputs": [
        {
          "output_type": "stream",
          "name": "stdout",
          "text": [
            "Requirement already satisfied: gym in /usr/local/lib/python3.10/dist-packages (0.25.2)\n",
            "Requirement already satisfied: numpy>=1.18.0 in /usr/local/lib/python3.10/dist-packages (from gym) (1.25.2)\n",
            "Requirement already satisfied: cloudpickle>=1.2.0 in /usr/local/lib/python3.10/dist-packages (from gym) (2.2.1)\n",
            "Requirement already satisfied: gym-notices>=0.0.4 in /usr/local/lib/python3.10/dist-packages (from gym) (0.0.8)\n"
          ]
        }
      ],
      "source": [
        "pip install gym"
      ]
    },
    {
      "cell_type": "markdown",
      "source": [
        "#Implementing the Agent\n",
        "\n",
        "We will create an agent that takes an action based on a linear combination of the observation vector and a randomly initialized weight vector.\n",
        "\n"
      ],
      "metadata": {
        "id": "Txrv2ECf4Nnc"
      }
    },
    {
      "cell_type": "code",
      "source": [
        "import gym\n",
        "import numpy as np\n",
        "\n",
        "# Define the CartPole environment\n",
        "env = gym.make('CartPole-v1')\n",
        "\n",
        "# Function to initialize weights\n",
        "def initialize_weights():\n",
        "    return np.random.uniform(-1, 1, 4)\n",
        "\n",
        "# Function to select action based on observation and weights\n",
        "def select_action(observation, weights):\n",
        "    return 1 if np.dot(observation, weights) >= 0 else 0\n",
        "\n",
        "# Function to run an episode and return the accumulated reward\n",
        "def run_episode(env, weights):\n",
        "    observation = env.reset()\n",
        "    total_reward = 0\n",
        "    for _ in range(300):\n",
        "        action = select_action(observation, weights)\n",
        "        observation, reward, done, _ = env.step(action)\n",
        "        total_reward += reward\n",
        "        if done:\n",
        "            break\n",
        "    return total_reward\n",
        "\n",
        "# Evaluate an agent with random weights\n",
        "weights = initialize_weights()\n",
        "score = run_episode(env, weights)\n",
        "print(f\"Score with random weights: {score}\")\n"
      ],
      "metadata": {
        "colab": {
          "base_uri": "https://localhost:8080/"
        },
        "id": "cwlqiecs32yn",
        "outputId": "199e65f1-c8d8-47ba-cc59-6090f57b3474"
      },
      "execution_count": 18,
      "outputs": [
        {
          "output_type": "stream",
          "name": "stdout",
          "text": [
            "Score with random weights: 88.0\n"
          ]
        },
        {
          "output_type": "stream",
          "name": "stderr",
          "text": [
            "/usr/local/lib/python3.10/dist-packages/ipykernel/ipkernel.py:283: DeprecationWarning: `should_run_async` will not call `transform_cell` automatically in the future. Please pass the result to `transformed_cell` argument and any exception that happen during thetransform in `preprocessing_exc_tuple` in IPython 7.17 and above.\n",
            "  and should_run_async(code)\n",
            "/usr/local/lib/python3.10/dist-packages/gym/core.py:317: DeprecationWarning: \u001b[33mWARN: Initializing wrapper in old step API which returns one bool instead of two. It is recommended to set `new_step_api=True` to use new step API. This will be the default behaviour in future.\u001b[0m\n",
            "  deprecation(\n",
            "/usr/local/lib/python3.10/dist-packages/gym/wrappers/step_api_compatibility.py:39: DeprecationWarning: \u001b[33mWARN: Initializing environment in old step API which returns one bool instead of two. It is recommended to set `new_step_api=True` to use new step API. This will be the default behaviour in future.\u001b[0m\n",
            "  deprecation(\n",
            "/usr/local/lib/python3.10/dist-packages/gym/utils/passive_env_checker.py:241: DeprecationWarning: `np.bool8` is a deprecated alias for `np.bool_`.  (Deprecated NumPy 1.24)\n",
            "  if not isinstance(terminated, (bool, np.bool8)):\n"
          ]
        }
      ]
    },
    {
      "cell_type": "markdown",
      "source": [
        "#Training the Agent Using Random Search\n",
        "We will train the agent by sampling different weights and keeping the weights that yield the highest reward."
      ],
      "metadata": {
        "id": "2mLf1IBy4UFe"
      }
    },
    {
      "cell_type": "code",
      "source": [
        "# Function to perform random search\n",
        "def random_search(env, num_samples=10000):\n",
        "    best_weights = None\n",
        "    best_score = 0\n",
        "    for _ in range(num_samples):\n",
        "        weights = initialize_weights()\n",
        "        score = run_episode(env, weights)\n",
        "        if score > best_score:\n",
        "            best_score = score\n",
        "            best_weights = weights\n",
        "    return best_weights, best_score\n",
        "\n",
        "# Train the agent using random search\n",
        "best_weights, best_score = random_search(env)\n",
        "print(f\"Best weights: {best_weights}\")\n"
      ],
      "metadata": {
        "colab": {
          "base_uri": "https://localhost:8080/"
        },
        "id": "aIQn2PvX35Ku",
        "outputId": "10787186-e92d-4fd4-d64e-31b567178452"
      },
      "execution_count": 7,
      "outputs": [
        {
          "output_type": "stream",
          "name": "stdout",
          "text": [
            "Best weights: [-0.11496731 -0.17164942  0.81729976  0.18346065]\n"
          ]
        }
      ]
    },
    {
      "cell_type": "code",
      "source": [
        "# Evaluate an agent with random weights\n",
        "weights = best_weights\n",
        "score = run_episode(env, weights)\n",
        "print(f\"Score with best weights: {score}\")"
      ],
      "metadata": {
        "colab": {
          "base_uri": "https://localhost:8080/"
        },
        "id": "JzgaqzBe7Agq",
        "outputId": "f483b474-a7ed-4990-d89c-aa70c02658ab"
      },
      "execution_count": 11,
      "outputs": [
        {
          "output_type": "stream",
          "name": "stdout",
          "text": [
            "Score with best weights: 94.0\n"
          ]
        }
      ]
    },
    {
      "cell_type": "markdown",
      "source": [
        "#Evaluate the Random Search Scheme\n",
        "We will evaluate how many episodes it takes for the agent to reach a score of 200."
      ],
      "metadata": {
        "id": "7mZzZr0U4ejM"
      }
    },
    {
      "cell_type": "code",
      "source": [
        "import matplotlib.pyplot as plt\n",
        "\n",
        "def evaluate_random_search(env, num_searches=1000, target_score=200):\n",
        "    episodes_needed = []\n",
        "    best_weights2 = []\n",
        "    best_scores = []\n",
        "    for _ in range(num_searches):\n",
        "        episodes = 0\n",
        "        while True:\n",
        "            episodes += 1\n",
        "            weights = initialize_weights()\n",
        "            score = run_episode(env, weights)\n",
        "            if score >= target_score:\n",
        "                episodes_needed.append(episodes)\n",
        "                best_weights2.append(weights)\n",
        "                best_scores.append(score)\n",
        "                break\n",
        "    return episodes_needed, best_weights2, best_scores\n",
        "\n",
        "# Evaluate the random search scheme\n",
        "episodes_needed, best_weights2, best_scores = evaluate_random_search(env)\n",
        "average_episodes = np.mean(episodes_needed)\n",
        "print(f\"Average number of episodes needed: {average_episodes}\")\n",
        "\n",
        "# Plot histogram of the number of episodes needed\n",
        "plt.hist(episodes_needed, bins=30)\n",
        "plt.xlabel('Number of Episodes')\n",
        "plt.ylabel('Frequency')\n",
        "plt.title('Histogram of Episodes Needed to Reach Score of 200')\n",
        "plt.show()\n",
        "\n",
        "plt.hist(best_scores, bins=30)\n",
        "plt.xlabel('Score')\n",
        "plt.ylabel('Frequency')\n",
        "plt.title('Histogram of score')\n",
        "plt.show()\n"
      ],
      "metadata": {
        "colab": {
          "base_uri": "https://localhost:8080/",
          "height": 944
        },
        "id": "IYkfXSe536N5",
        "outputId": "453c25f4-b2a7-4a2d-b407-121a320a93d4"
      },
      "execution_count": 19,
      "outputs": [
        {
          "output_type": "stream",
          "name": "stdout",
          "text": [
            "Average number of episodes needed: 13.289\n"
          ]
        },
        {
          "output_type": "display_data",
          "data": {
            "text/plain": [
              "<Figure size 640x480 with 1 Axes>"
            ],
            "image/png": "[encoded data removed]"
          },
          "metadata": {}
        },
        {
          "output_type": "display_data",
          "data": {
            "text/plain": [
              "<Figure size 640x480 with 1 Axes>"
            ],
            "image/png": "[encoded data removed]"
          },
          "metadata": {}
        }
      ]
    },
    {
      "cell_type": "markdown",
      "source": [
        "# We observe that most of the weights that achieved the target score of 200 also reached the maximum score limit of 300 in many episodes. This indicates that these weights have the potential to exceed our limit and achieve even higher scores. Therefore, these weights could be considered ideal solutions for maximizing performance in the CartPole-v1 environment. Additionally, we can infer that once a high score is achieved, the method is effective, demonstrating the viability of this random search approach for solving this problem."
      ],
      "metadata": {
        "id": "WAZCuf_A9gzH"
      }
    }
  ]
}